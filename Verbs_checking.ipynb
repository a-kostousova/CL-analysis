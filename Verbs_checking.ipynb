!pip install natasha

from natasha import (
    Segmenter,
    
    NewsEmbedding,
    NewsMorphTagger,
    NewsSyntaxParser,
    
    Doc
)

segmenter = Segmenter()
emb = NewsEmbedding()
morph_tagger = NewsMorphTagger(emb)

text = 'Мишка очень любит мед. Почему, кто поймет? В самом деле, почему мед так нравится ему?'
text2 = 'они используются здесь'
doc = Doc(text2)

doc.segment(segmenter)
doc.tag_morph(morph_tagger)

sent = doc.sents[0]
verbs = []
for t in doc.morph.tokens:
  if t.pos == 'VERB':
    verbs.append(t)

incorrect = []
for v in verbs:
  if v.feats['Mood'] != 'Ind':
    incorrect.append(v.text)

print(incorrect)
