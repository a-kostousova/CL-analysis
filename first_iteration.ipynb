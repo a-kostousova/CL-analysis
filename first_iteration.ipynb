{
  "nbformat": 4,
  "nbformat_minor": 0,
  "metadata": {
    "colab": {
      "provenance": []
    },
    "kernelspec": {
      "name": "python3",
      "display_name": "Python 3"
    },
    "language_info": {
      "name": "python"
    }
  },
  "cells": [
    {
      "cell_type": "code",
      "execution_count": null,
      "metadata": {
        "id": "7MRBTXi5YX0r"
      },
      "outputs": [],
      "source": [
        "import re\n",
        "\n",
        "a = \"В лесу ФСБ России Ёрос красивый ФСТЭК России Ёёё куст. Куст цвёл яркими цветами. Это был шиповник. Хороши душистые розы. Стала Ася рвать \" \\\n",
        "    \"розы. А там шипы. У Аси заноза. \"\n",
        "b = \"Просто текст без запретной буквы\""
      ]
    },
    {
      "cell_type": "markdown",
      "source": [
        "В тексте не должно быть букв Ё:"
      ],
      "metadata": {
        "id": "9_3qXBJ6ZKTF"
      }
    },
    {
      "cell_type": "code",
      "source": [
        "def find_letter(text):\n",
        "    united_list = re.findall(r' [а-я]*ё[а-я]*', text)\n",
        "    if len(united_list) == 0:\n",
        "        return \"В тексте нет букв ё\"\n",
        "    return [*set(united_list)]\n",
        "\n",
        "print(find_letter(a))\n",
        "print(find_letter(b))"
      ],
      "metadata": {
        "id": "b3hCUB6JYwuv"
      },
      "execution_count": null,
      "outputs": []
    },
    {
      "cell_type": "markdown",
      "source": [
        "Сокращения организаций-регуляторов указаны корректно: ФСТЭК, ФСБ:"
      ],
      "metadata": {
        "id": "8-fmwXi0ZOgn"
      }
    },
    {
      "cell_type": "code",
      "source": [
        "def find_fstek_fsb(text):\n",
        "    fstek_fsb_count = len(re.findall(r'ФСТЭК|ФСБ', text))\n",
        "    fstek_fsb_russia_count = len(re.findall(r'ФСТЭК России|ФСБ России', text))\n",
        "    if fstek_fsb_count == fstek_fsb_russia_count:\n",
        "        return \"Сокращения организаций-регуляторов указаны корректно\"\n",
        "    return \"Сокращения \" + str(fstek_fsb_count - fstek_fsb_russia_count) + \" организаций-регуляторов указаны неверно\"\n",
        "\n",
        "print(find_fstek_fsb(a))"
      ],
      "metadata": {
        "id": "Tl_vi5HCY2W6"
      },
      "execution_count": null,
      "outputs": []
    },
    {
      "cell_type": "markdown",
      "source": [
        "Имя прошлого заказчика не встречается:"
      ],
      "metadata": {
        "id": "tIoRAKbVZWEn"
      }
    },
    {
      "cell_type": "code",
      "source": [
        "def find_ex_customer(name, text):\n",
        "    ex_customer_count = len(re.findall(name, text))\n",
        "    if ex_customer_count > 0:\n",
        "        return \"Имя прошлого заказчика встречается \" + str(ex_customer_count) + \" раз\"\n",
        "    return \"Имя прошлого заказчика не встречается\""
      ],
      "metadata": {
        "id": "uze-tbqYY5Y2"
      },
      "execution_count": null,
      "outputs": []
    },
    {
      "cell_type": "markdown",
      "source": [
        "Множественных пробелов нет:"
      ],
      "metadata": {
        "id": "yY8i70rjZZUX"
      }
    },
    {
      "cell_type": "code",
      "source": [
        "def find_multiple_spaces(text):\n",
        "    multiple_spaces_count = len(re.findall(r'[а-я|А-Я|ё|Ё|,|:|.|;|!|?|)]  +[а-я|А-Я|ё|Ё]', text))\n",
        "    if multiple_spaces_count == 0:\n",
        "        return \"Множественных пробелов нет\"\n",
        "    return \"Множественные пробелы встречаются \" + str(multiple_spaces_count) + \" раз\""
      ],
      "metadata": {
        "id": "bs4wDd3QZAPw"
      },
      "execution_count": null,
      "outputs": []
    },
    {
      "cell_type": "markdown",
      "source": [
        "Название сети Интернет указано верно:"
      ],
      "metadata": {
        "id": "JCbN2KZPZeD0"
      }
    },
    {
      "cell_type": "code",
      "source": [
        "def find_internet_spelling(text):\n",
        "    right_spelling_count = len(re.findall(r'[с|С]ет[ь|и] Интернет|сетью Интернет', text))\n",
        "    all_spelling_count = len(re.findall(r'[И|и]нтернет[а|у|е]*|[И|и]нтернетом', text))\n",
        "    if right_spelling_count == all_spelling_count:\n",
        "        return \"Название сети Интернет написано верно\"\n",
        "    return \"Название сети Интернет написано неверно \" + str(all_spelling_count - right_spelling_count) + \" раз\""
      ],
      "metadata": {
        "id": "TaRAy1y-ZGB5"
      },
      "execution_count": null,
      "outputs": []
    }
  ]
}